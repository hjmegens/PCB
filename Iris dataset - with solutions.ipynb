{
 "cells": [
  {
   "cell_type": "code",
   "execution_count": 1,
   "metadata": {
    "collapsed": true
   },
   "outputs": [],
   "source": [
    "# Cell #1\n",
    "# Jupyter Notebook 'Iris data plotting'\n",
    "# Goal: demonstration of matplotlib\n",
    "# By: H.J. Megens\n",
    "# Where you can reach me: hendrik-jan.megens -at- wur.nl\n",
    "# Last modified: 25 September 2016\n",
    "\n",
    "# modified from:\n",
    "# http://scikit-learn.org/stable/auto_examples/datasets/plot_iris_dataset.html\n",
    "\n",
    "import matplotlib.pyplot as plt\n",
    "from sklearn import datasets\n",
    "import numpy as np"
   ]
  },
  {
   "cell_type": "code",
   "execution_count": 2,
   "metadata": {
    "collapsed": true
   },
   "outputs": [],
   "source": [
    "# Cell #2\n",
    "# import some data to play with\n",
    "# R.A. Fisher's famous Iris dataset, built into Scikit-Learn module\n",
    "iris = datasets.load_iris() \n",
    "\n",
    "# we take the first two features (corresponding to sepal width and length).\n",
    "X1 = iris.data[:, :2]\n",
    "\n",
    "# we take the last two features (corresponding to petal width and height).\n",
    "X2 = iris.data[:,2 :] \n",
    "\n",
    "# and we create a vector with 0s, 1s and 2s that represent 'setosa', \n",
    "# 'versicolor', and 'virginica', respectively\n",
    "Y = iris.target\n"
   ]
  },
  {
   "cell_type": "code",
   "execution_count": 3,
   "metadata": {
    "collapsed": false
   },
   "outputs": [
    {
     "data": {
      "text/plain": [
       "['target_names', 'data', 'target', 'DESCR', 'feature_names']"
      ]
     },
     "execution_count": 3,
     "metadata": {},
     "output_type": "execute_result"
    }
   ],
   "source": [
    "# Cell #3\n",
    "# content of the Iris dataset; \n",
    "#it is a dictionary with different elements, \n",
    "# including a few lists and a numpy array that contains the data.\n",
    "iris.keys()"
   ]
  },
  {
   "cell_type": "code",
   "execution_count": 4,
   "metadata": {
    "collapsed": false
   },
   "outputs": [
    {
     "data": {
      "text/plain": [
       "array(['setosa', 'versicolor', 'virginica'], \n",
       "      dtype='|S10')"
      ]
     },
     "execution_count": 4,
     "metadata": {},
     "output_type": "execute_result"
    }
   ],
   "source": [
    "# Cell #4\n",
    "# names of the different species ('targets')\n",
    "iris.target_names"
   ]
  },
  {
   "cell_type": "code",
   "execution_count": 5,
   "metadata": {
    "collapsed": false
   },
   "outputs": [
    {
     "data": {
      "text/plain": [
       "['sepal length (cm)',\n",
       " 'sepal width (cm)',\n",
       " 'petal length (cm)',\n",
       " 'petal width (cm)']"
      ]
     },
     "execution_count": 5,
     "metadata": {},
     "output_type": "execute_result"
    }
   ],
   "source": [
    "# Cell #5\n",
    "# feature names\n",
    "iris.feature_names"
   ]
  },
  {
   "cell_type": "code",
   "execution_count": 6,
   "metadata": {
    "collapsed": false,
    "scrolled": true
   },
   "outputs": [
    {
     "data": {
      "text/plain": [
       "array([[ 5.1,  3.5,  1.4,  0.2],\n",
       "       [ 4.9,  3. ,  1.4,  0.2],\n",
       "       [ 4.7,  3.2,  1.3,  0.2],\n",
       "       [ 4.6,  3.1,  1.5,  0.2],\n",
       "       [ 5. ,  3.6,  1.4,  0.2],\n",
       "       [ 5.4,  3.9,  1.7,  0.4],\n",
       "       [ 4.6,  3.4,  1.4,  0.3],\n",
       "       [ 5. ,  3.4,  1.5,  0.2],\n",
       "       [ 4.4,  2.9,  1.4,  0.2],\n",
       "       [ 4.9,  3.1,  1.5,  0.1]])"
      ]
     },
     "execution_count": 6,
     "metadata": {},
     "output_type": "execute_result"
    }
   ],
   "source": [
    "# Cell #6\n",
    "# first 10 rows of data\n",
    "iris.data[:10,:]"
   ]
  },
  {
   "cell_type": "code",
   "execution_count": 7,
   "metadata": {
    "collapsed": false
   },
   "outputs": [],
   "source": [
    "# Cell #7\n",
    "# This subroutine does most of the plotting\n",
    "\n",
    "def plot_stuff(data,X,Y,pos,featureX,featureY):\n",
    "    \n",
    "    # add subplot\n",
    "    ax = fig.add_subplot(pos) \n",
    "    # define a tuplie with colors to use; matplotlib understands keywords or only first letters\n",
    "    cols = ('b','g','r') \n",
    "    \n",
    "    # define minimum and maximum of values to scale the axes of the plot.\n",
    "    x_min, x_max = X[:, 0].min() - .5, X[:, 0].max() + .5\n",
    "    y_min, y_max = X[:, 1].min() - .5, X[:, 1].max() + .5\n",
    "\n",
    "    # we build the plot species by species\n",
    "    # note that Y is a vector containing many 0s, 1s and 2s, in the correct order for each row in the data\n",
    "    # by using 'set(Y)' we make a set object that contains only one 0, one 1, and one 2\n",
    "    for i in set(Y):\n",
    "    \n",
    "        # smart indexing to only extract the rows from the data matrix that contains rows pertaining to\n",
    "        # the correct species\n",
    "        x = X[:, 0][Y==i]\n",
    "        y = X[:, 1][Y==i]\n",
    "        \n",
    "        # We plot the point for species i\n",
    "        sc =ax.scatter(x, y, c=cols[i])\n",
    "        \n",
    "        # and we calculate the correlation coefficient, and the slope and intercept point\n",
    "        cf = np.corrcoef(x,y)[0,1]\n",
    "        slope,intercept = np.polyfit(x,y,1)\n",
    "        \n",
    "        # ... which we then plot on top of the existing plot, including a label\n",
    "        ax.plot(x,x*slope+intercept, c = cols[i], label = 'cor=%.2f, a=%.2f b=%.2f' % (cf,slope,intercept))\n",
    "\n",
    "\n",
    "    # write the label for X and Y axis \n",
    "    ax.set_xlabel(featureX)\n",
    "    ax.set_ylabel(featureY)\n",
    "\n",
    "    # and set the minimum and maximum values for X and Y axis\n",
    "    ax.set_xlim(x_min, x_max)\n",
    "    ax.set_ylim(y_min, y_max)\n",
    "    \n",
    "    # Finally, plot the legend, and define fontsize and position\n",
    "    ax.legend(loc = 'lower right',fontsize='x-small')\n"
   ]
  },
  {
   "cell_type": "code",
   "execution_count": 8,
   "metadata": {
    "collapsed": false
   },
   "outputs": [],
   "source": [
    "# Cell #8\n",
    "# We create the figure and define its size\n",
    "fig = plt.figure(figsize=(6,8))\n",
    "\n",
    "# plot sepal length vs sepal width\n",
    "featureX = iris.feature_names[0]\n",
    "featureY = iris.feature_names[1]\n",
    "plot_stuff(iris,X1,Y,211, featureX,featureY)\n",
    "\n",
    "# plot petal length vs petal width\n",
    "featureX = iris.feature_names[2]\n",
    "featureY = iris.feature_names[3]\n",
    "plot_stuff(iris,X2,Y,212,featureX, featureY)\n",
    "\n",
    "# make layout nice and tight\n",
    "plt.tight_layout()\n",
    "\n",
    "# then we plot it as vector graphic (!, not pixels!) \n",
    "plt.savefig('Iris.svg',format='svg')\n",
    "\n",
    "# and finally plot it to screen\n",
    "plt.show()"
   ]
  },
  {
   "cell_type": "code",
   "execution_count": 11,
   "metadata": {
    "collapsed": true
   },
   "outputs": [],
   "source": [
    "# Solution to Task 4b - 1\n",
    "np.corrcoef?"
   ]
  },
  {
   "cell_type": "code",
   "execution_count": 12,
   "metadata": {
    "collapsed": true
   },
   "outputs": [],
   "source": [
    "# Solution to Task 4b -2\n",
    "np.polyfit?"
   ]
  },
  {
   "cell_type": "code",
   "execution_count": null,
   "metadata": {
    "collapsed": false
   },
   "outputs": [],
   "source": [
    "# Solution to Task 4c\n",
    "# We create the figure and define its size\n",
    "fig = plt.figure(figsize=(6,12))\n",
    "\n",
    "# plot sepal length vs sepal width\n",
    "featureX = iris.feature_names[0]\n",
    "featureY = iris.feature_names[1]\n",
    "plot_stuff(iris,X1,Y,311, featureX,featureY)\n",
    "\n",
    "# plot petal length vs petal width\n",
    "featureX = iris.feature_names[2]\n",
    "featureY = iris.feature_names[3]\n",
    "plot_stuff(iris,X2,Y,312,featureX, featureY)\n",
    "\n",
    "X3 = iris.data[:,[0,2]]\n",
    "# plot sepal length vs sepal width\n",
    "featureX = iris.feature_names[0]\n",
    "featureY = iris.feature_names[2]\n",
    "plot_stuff(iris,X3,Y,313, featureX,featureY)\n",
    "\n",
    "\n",
    "# make layout nice and tight\n",
    "plt.tight_layout()\n",
    "\n",
    "# then we plot it as vector graphic (!, not pixels!) \n",
    "plt.savefig('Iris.svg',format='svg')\n",
    "\n",
    "# and finally plot it to screen\n",
    "plt.show()"
   ]
  },
  {
   "cell_type": "code",
   "execution_count": null,
   "metadata": {
    "collapsed": true
   },
   "outputs": [],
   "source": []
  }
 ],
 "metadata": {
  "kernelspec": {
   "display_name": "Python [Root]",
   "language": "python",
   "name": "Python [Root]"
  },
  "language_info": {
   "codemirror_mode": {
    "name": "ipython",
    "version": 2
   },
   "file_extension": ".py",
   "mimetype": "text/x-python",
   "name": "python",
   "nbconvert_exporter": "python",
   "pygments_lexer": "ipython2",
   "version": "2.7.12"
  }
 },
 "nbformat": 4,
 "nbformat_minor": 0
}
